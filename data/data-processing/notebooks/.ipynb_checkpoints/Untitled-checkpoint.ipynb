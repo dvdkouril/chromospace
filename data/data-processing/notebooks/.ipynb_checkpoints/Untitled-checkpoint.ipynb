{
 "cells": [
  {
   "cell_type": "code",
   "execution_count": 66,
   "id": "d643b544-a9be-47ab-898b-84d723b6fe74",
   "metadata": {},
   "outputs": [
    {
     "data": {
      "text/plain": [
       "['https://calla.rnet.missouri.edu/genome3d/GSDB/Database/OO7429SF/GM12878/KR_100kb/LorDG/chr1.pdb',\n",
       " 'https://calla.rnet.missouri.edu/genome3d/GSDB/Database/OO7429SF/GM12878/KR_100kb/LorDG/chr2.pdb',\n",
       " 'https://calla.rnet.missouri.edu/genome3d/GSDB/Database/OO7429SF/GM12878/KR_100kb/LorDG/chr3.pdb',\n",
       " 'https://calla.rnet.missouri.edu/genome3d/GSDB/Database/OO7429SF/GM12878/KR_100kb/LorDG/chr4.pdb',\n",
       " 'https://calla.rnet.missouri.edu/genome3d/GSDB/Database/OO7429SF/GM12878/KR_100kb/LorDG/chr5.pdb',\n",
       " 'https://calla.rnet.missouri.edu/genome3d/GSDB/Database/OO7429SF/GM12878/KR_100kb/LorDG/chr6.pdb',\n",
       " 'https://calla.rnet.missouri.edu/genome3d/GSDB/Database/OO7429SF/GM12878/KR_100kb/LorDG/chr7.pdb',\n",
       " 'https://calla.rnet.missouri.edu/genome3d/GSDB/Database/OO7429SF/GM12878/KR_100kb/LorDG/chr8.pdb',\n",
       " 'https://calla.rnet.missouri.edu/genome3d/GSDB/Database/OO7429SF/GM12878/KR_100kb/LorDG/chr9.pdb',\n",
       " 'https://calla.rnet.missouri.edu/genome3d/GSDB/Database/OO7429SF/GM12878/KR_100kb/LorDG/chr10.pdb',\n",
       " 'https://calla.rnet.missouri.edu/genome3d/GSDB/Database/OO7429SF/GM12878/KR_100kb/LorDG/chr11.pdb',\n",
       " 'https://calla.rnet.missouri.edu/genome3d/GSDB/Database/OO7429SF/GM12878/KR_100kb/LorDG/chr12.pdb',\n",
       " 'https://calla.rnet.missouri.edu/genome3d/GSDB/Database/OO7429SF/GM12878/KR_100kb/LorDG/chr13.pdb',\n",
       " 'https://calla.rnet.missouri.edu/genome3d/GSDB/Database/OO7429SF/GM12878/KR_100kb/LorDG/chr14.pdb',\n",
       " 'https://calla.rnet.missouri.edu/genome3d/GSDB/Database/OO7429SF/GM12878/KR_100kb/LorDG/chr15.pdb',\n",
       " 'https://calla.rnet.missouri.edu/genome3d/GSDB/Database/OO7429SF/GM12878/KR_100kb/LorDG/chr16.pdb',\n",
       " 'https://calla.rnet.missouri.edu/genome3d/GSDB/Database/OO7429SF/GM12878/KR_100kb/LorDG/chr17.pdb',\n",
       " 'https://calla.rnet.missouri.edu/genome3d/GSDB/Database/OO7429SF/GM12878/KR_100kb/LorDG/chr18.pdb',\n",
       " 'https://calla.rnet.missouri.edu/genome3d/GSDB/Database/OO7429SF/GM12878/KR_100kb/LorDG/chr19.pdb',\n",
       " 'https://calla.rnet.missouri.edu/genome3d/GSDB/Database/OO7429SF/GM12878/KR_100kb/LorDG/chr20.pdb',\n",
       " 'https://calla.rnet.missouri.edu/genome3d/GSDB/Database/OO7429SF/GM12878/KR_100kb/LorDG/chr21.pdb',\n",
       " 'https://calla.rnet.missouri.edu/genome3d/GSDB/Database/OO7429SF/GM12878/KR_100kb/LorDG/chr22.pdb']"
      ]
     },
     "execution_count": 66,
     "metadata": {},
     "output_type": "execute_result"
    }
   ],
   "source": [
    "# Sample structures, taken from https://gsdb.mu.hekademeia.org/details.php?id=GM12878,\n",
    "# the actual URL is from the viewer UI\n",
    "base_url = \"https://calla.rnet.missouri.edu/genome3d/GSDB/Database/OO7429SF/GM12878/KR_100kb/LorDG/\"\n",
    "urls = []\n",
    "for chr in range(1, 23):\n",
    "    filename = f'chr{chr}.pdb'\n",
    "    urls.append(base_url + filename)\n",
    "\n",
    "urls"
   ]
  },
  {
   "cell_type": "code",
   "execution_count": 68,
   "id": "bd4a68cf-0b40-42e7-9275-803d51664ede",
   "metadata": {
    "scrolled": true
   },
   "outputs": [
    {
     "data": {
      "text/plain": [
       "22"
      ]
     },
     "execution_count": 68,
     "metadata": {},
     "output_type": "execute_result"
    }
   ],
   "source": [
    "# Download sample files\n",
    "import urllib.request\n",
    "files_content = []\n",
    "for url in urls:\n",
    "    with urllib.request.urlopen(url) as f:\n",
    "        res = f.read().decode('utf-8')\n",
    "        files_content.append(res)\n",
    "\n",
    "len(files_content)"
   ]
  },
  {
   "cell_type": "code",
   "execution_count": 70,
   "id": "611024ee-6ad5-4dce-be42-19fa8937cee5",
   "metadata": {
    "scrolled": true
   },
   "outputs": [],
   "source": [
    "def parse_pdb(file_content):\n",
    "    V = list()\n",
    "\n",
    "    for line in file_content.splitlines():\n",
    "        # print(line)\n",
    "        if line.startswith(\"ATOM\"):\n",
    "            columns = line.split()\n",
    "            # print(columns)\n",
    "            x = eval(columns[5])\n",
    "            y = eval(columns[6])\n",
    "            z = eval(columns[7])\n",
    "            V.append([x, y, z])\n",
    "            # print(line)\n",
    "\n",
    "    return np.array(V)\n",
    "\n",
    "# parse the PDB structure file\n",
    "for i, file in enumerate(files_content, start=1):\n",
    "    pdb = parse_pdb(file)\n",
    "\n",
    "    # separate columns (x, y, z) into arrays/lists\n",
    "    x_column = []\n",
    "    y_column = []\n",
    "    z_column = []\n",
    "    for x in pdb:\n",
    "        x_column.append(x[0])\n",
    "        y_column.append(x[1])\n",
    "        z_column.append(x[2])\n",
    "\n",
    "    # converting to arrow arrays\n",
    "    x_array = pa.array(x_column)\n",
    "    y_array = pa.array(y_column)\n",
    "    z_array = pa.array(z_column)\n",
    "\n",
    "    chr1_table = pa.Table.from_arrays([x_array, y_array, z_array], names=[\"x\", \"y\", \"z\"])\n",
    "    pq.write_table(chr1_table, f'chr{i}.parquet', compression=None)\n"
   ]
  },
  {
   "cell_type": "code",
   "execution_count": 61,
   "id": "9b64bb5c-295a-4b1f-b6a1-d79e59fddc3d",
   "metadata": {},
   "outputs": [],
   "source": [
    "# converting to arrow arrays\n",
    "x_array = pa.array(x_column)\n",
    "y_array = pa.array(y_column)\n",
    "z_array = pa.array(z_column)"
   ]
  },
  {
   "cell_type": "code",
   "execution_count": 65,
   "id": "6547f53b-83a4-4324-bbff-2e059b59f5db",
   "metadata": {},
   "outputs": [],
   "source": [
    "chr1_table = pa.Table.from_arrays([x_array, y_array, z_array], names=[\"x\", \"y\", \"z\"])\n",
    "\n",
    "pq.write_table(chr1_table, \"chr1.parquet\", compression=None)"
   ]
  },
  {
   "cell_type": "code",
   "execution_count": null,
   "id": "df4af97e-ecdb-4414-886c-20e465baa888",
   "metadata": {},
   "outputs": [],
   "source": []
  }
 ],
 "metadata": {
  "kernelspec": {
   "display_name": "Python 3 (ipykernel)",
   "language": "python",
   "name": "python3"
  },
  "language_info": {
   "codemirror_mode": {
    "name": "ipython",
    "version": 3
   },
   "file_extension": ".py",
   "mimetype": "text/x-python",
   "name": "python",
   "nbconvert_exporter": "python",
   "pygments_lexer": "ipython3",
   "version": "3.12.2"
  }
 },
 "nbformat": 4,
 "nbformat_minor": 5
}
