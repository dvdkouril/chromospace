{
 "cells": [
  {
   "cell_type": "code",
   "execution_count": 1,
   "id": "8ba2df4c-dfbe-49e2-94bd-19e23e631b03",
   "metadata": {},
   "outputs": [],
   "source": [
    "import pyarrow as pa\n",
    "import pyarrow.parquet as pq\n",
    "import numpy as np"
   ]
  },
  {
   "cell_type": "code",
   "execution_count": 3,
   "id": "19caf43d-281e-4fd0-8d29-4a6916f9ffaa",
   "metadata": {},
   "outputs": [
    {
     "data": {
      "text/plain": [
       "3479387"
      ]
     },
     "execution_count": 3,
     "metadata": {},
     "output_type": "execute_result"
    }
   ],
   "source": [
    "import urllib.request\n",
    "# Download sample file\n",
    "model_url = \"https://dl.dropboxusercontent.com/scl/fi/lzv3ba5paum6srhte4z2t/GSM3271406_pbmc_18.impute.3dg.txt?rlkey=dc7k1gg5ghv2v7dsl0gg1uoo9&dl=0\"\n",
    "\n",
    "file_content = ''\n",
    "with urllib.request.urlopen(model_url) as f:\n",
    "    res = f.read().decode('utf-8')\n",
    "    file_content = res\n",
    "\n",
    "len(file_content)"
   ]
  },
  {
   "cell_type": "code",
   "execution_count": 14,
   "id": "cb8ffff3-1e16-4467-a326-db81d8e5a25c",
   "metadata": {
    "scrolled": true
   },
   "outputs": [
    {
     "name": "stdout",
     "output_type": "stream",
     "text": [
      "57990\n",
      "57990\n"
     ]
    }
   ],
   "source": [
    "x_column = []\n",
    "y_column = []\n",
    "z_column = []\n",
    "chrom_column = []\n",
    "coord_column = []\n",
    "for line in file_content.splitlines():\n",
    "    # print(line)\n",
    "    tokens = line.split('\\t')\n",
    "    x = float(tokens[2])\n",
    "    y = float(tokens[3])\n",
    "    z = float(tokens[4])\n",
    "    chrom = tokens[0]\n",
    "    coord = int(tokens[1])\n",
    "    \n",
    "    x_column.append(x)\n",
    "    y_column.append(y)\n",
    "    z_column.append(z)\n",
    "    chrom_column.append(chrom)\n",
    "    coord_column.append(coord)\n",
    "\n",
    "print(len(x_array))\n",
    "print(len(coord_array))\n",
    "\n",
    "# converting to arrow arrays\n",
    "x_array = pa.array(x_column)\n",
    "y_array = pa.array(y_column)\n",
    "z_array = pa.array(z_column)\n",
    "chrom_array = pa.array(chrom_column)\n",
    "coord_array = pa.array(coord_column)\n",
    "\n",
    "model_table = pa.Table.from_arrays([x_array, y_array, z_array, chrom_array, coord_array], names=[\"x\", \"y\", \"z\", \"chr\", \"coord\"])\n",
    "pq.write_table(model_table, 'model.parquet', compression=None)\n",
    "\n",
    "schema = pa.schema([\n",
    "    pa.field('x', x_array.type),\n",
    "    pa.field('y', y_array.type),\n",
    "    pa.field('z', z_array.type),\n",
    "    pa.field('chr', chrom_array.type),\n",
    "    pa.field('coord', coord_array.type)\n",
    "])\n",
    "\n",
    "with pa.OSFile('model.arrow', 'wb') as sink:\n",
    "    with pa.ipc.new_file(sink, schema=schema) as writer:\n",
    "        batch = pa.record_batch([x_array, y_array, z_array, chrom_array, coord_array], schema=schema)\n",
    "        writer.write(batch)"
   ]
  },
  {
   "cell_type": "code",
   "execution_count": null,
   "id": "b81b9f47-fc8d-47ac-8722-2f148ab9e51d",
   "metadata": {},
   "outputs": [],
   "source": []
  }
 ],
 "metadata": {
  "kernelspec": {
   "display_name": "Python 3 (ipykernel)",
   "language": "python",
   "name": "python3"
  },
  "language_info": {
   "codemirror_mode": {
    "name": "ipython",
    "version": 3
   },
   "file_extension": ".py",
   "mimetype": "text/x-python",
   "name": "python",
   "nbconvert_exporter": "python",
   "pygments_lexer": "ipython3",
   "version": "3.12.2"
  }
 },
 "nbformat": 4,
 "nbformat_minor": 5
}
